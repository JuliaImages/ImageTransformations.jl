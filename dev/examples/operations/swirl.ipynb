{
 "cells": [
  {
   "cell_type": "markdown",
   "source": [
    "In this example, we illustrate how to construct a custom warping map\n",
    "and pass it to `warp`. This swirl example comes from\n",
    "[the Princeton Computer Graphics course for Image Warping (Fall 2000)](https://www.cs.princeton.edu/courses/archive/fall00/cs426/lectures/warp/warp.pdf)\n",
    "and [scikit-image swirl example](https://scikit-image.org/docs/dev/auto_examples/transform/plot_swirl.html)."
   ],
   "metadata": {}
  },
  {
   "outputs": [],
   "cell_type": "code",
   "source": [
    "using ImageTransformations\n",
    "using OffsetArrays, StaticArrays\n",
    "using ImageShow, TestImages\n",
    "using LinearAlgebra\n",
    "\n",
    "img = imresize(testimage(\"cameraman\"), (256, 256));"
   ],
   "metadata": {},
   "execution_count": 1
  },
  {
   "cell_type": "markdown",
   "source": [
    "As we've illustrated in image warping, a warp operation\n",
    "consists of two operations: backward coordinate map `ϕ` and intensity estimator.\n",
    "To implement swirl operation, we need to customize the coordinate map `ϕ`.\n",
    "A valid coordinate map `q = ϕ(p)` follows the following interface:\n",
    "\n",
    "```julia\n",
    "# SVector comes from StaticArrays\n",
    "ϕ(::SVector{N})::SVector{N} where N\n",
    "```\n",
    "\n",
    "A cartesian position `(x, y)` can be transfered to/from polar coordinate `(ρ, θ)`\n",
    "using formula:\n",
    "\n",
    "```julia\n",
    "# Cartesian to Polar\n",
    "ρ = norm(y-y0, x-x0)\n",
    "θ = atan(y/x)\n",
    "\n",
    "# Polar to Cartesian\n",
    "y = y0 + ρ*sin(θ)\n",
    "x = x0 + ρ*cos(θ)\n",
    "```\n",
    "\n",
    "For given input index `p`, a swirl operation enforces more rotations in its polar coordinate using\n",
    "`θ̃ = θ + ϕ + s*exp(-ρ/r)`, and returns the cartesian index (x̃, ỹ) from the warped polor coordinate\n",
    "(ρ, θ̃). (Here we use the formula from [scikit-image swirl example](https://scikit-image.org/docs/dev/auto_examples/transform/plot_swirl.html)\n",
    "to build our version.)"
   ],
   "metadata": {}
  },
  {
   "outputs": [
    {
     "output_type": "execute_result",
     "data": {
      "text/plain": "swirl (generic function with 1 method)"
     },
     "metadata": {},
     "execution_count": 2
    }
   ],
   "cell_type": "code",
   "source": [
    "function swirl(rotation, strength, radius)\n",
    "    x0 = OffsetArrays.center(img)\n",
    "    r = log(2)*radius/5\n",
    "\n",
    "    function swirl_map(x::SVector{N}) where N\n",
    "        xd = x .- x0\n",
    "        ρ = norm(xd)\n",
    "        θ = atan(reverse(xd)...)\n",
    "\n",
    "        # Note that `x == x0 .+ ρ .* reverse(sincos(θ))`\n",
    "        # swirl adds more rotations to θ based on the distance to center point\n",
    "        θ̃ = θ + rotation + strength * exp(-ρ/r)\n",
    "\n",
    "        SVector{N}(x0 .+ ρ .* reverse(sincos(θ̃)))\n",
    "    end\n",
    "\n",
    "    warp(img, swirl_map, axes(img))\n",
    "end"
   ],
   "metadata": {},
   "execution_count": 2
  },
  {
   "cell_type": "markdown",
   "source": [
    "Now let's see how radius argument affects the result"
   ],
   "metadata": {}
  },
  {
   "outputs": [
    {
     "output_type": "execute_result",
     "data": {
      "text/plain": "256×256×15 ImageShow.AnimatedGIF{Gray{N0f8}, StackViews.StackView{Gray{N0f8}, 3, 3, Vector{Matrix{Gray{N0f8}}}}}:\n[:, :, 1] =\n Gray{N0f8}(0.0)    Gray{N0f8}(0.624)  …  Gray{N0f8}(0.0)\n Gray{N0f8}(0.0)    Gray{N0f8}(0.608)     Gray{N0f8}(0.596)\n Gray{N0f8}(0.616)  Gray{N0f8}(0.62)      Gray{N0f8}(0.596)\n Gray{N0f8}(0.62)   Gray{N0f8}(0.608)     Gray{N0f8}(0.6)\n Gray{N0f8}(0.612)  Gray{N0f8}(0.6)       Gray{N0f8}(0.596)\n Gray{N0f8}(0.0)    Gray{N0f8}(0.604)  …  Gray{N0f8}(0.596)\n Gray{N0f8}(0.0)    Gray{N0f8}(0.6)       Gray{N0f8}(0.588)\n Gray{N0f8}(0.62)   Gray{N0f8}(0.616)     Gray{N0f8}(0.576)\n Gray{N0f8}(0.0)    Gray{N0f8}(0.612)     Gray{N0f8}(0.573)\n Gray{N0f8}(0.608)  Gray{N0f8}(0.604)     Gray{N0f8}(0.592)\n ⋮                                     ⋱  ⋮\n Gray{N0f8}(0.408)  Gray{N0f8}(0.529)     Gray{N0f8}(0.498)\n Gray{N0f8}(0.51)   Gray{N0f8}(0.486)     Gray{N0f8}(0.416)\n Gray{N0f8}(0.541)  Gray{N0f8}(0.447)     Gray{N0f8}(0.365)\n Gray{N0f8}(0.478)  Gray{N0f8}(0.475)  …  Gray{N0f8}(0.388)\n Gray{N0f8}(0.408)  Gray{N0f8}(0.455)     Gray{N0f8}(0.408)\n Gray{N0f8}(0.0)    Gray{N0f8}(0.455)     Gray{N0f8}(0.455)\n Gray{N0f8}(0.471)  Gray{N0f8}(0.502)     Gray{N0f8}(0.447)\n Gray{N0f8}(0.475)  Gray{N0f8}(0.502)     Gray{N0f8}(0.435)\n Gray{N0f8}(0.478)  Gray{N0f8}(0.494)  …  Gray{N0f8}(0.439)\n\n[:, :, 2] =\n Gray{N0f8}(0.0)    Gray{N0f8}(0.624)  …  Gray{N0f8}(0.0)\n Gray{N0f8}(0.0)    Gray{N0f8}(0.608)     Gray{N0f8}(0.596)\n Gray{N0f8}(0.616)  Gray{N0f8}(0.62)      Gray{N0f8}(0.596)\n Gray{N0f8}(0.62)   Gray{N0f8}(0.608)     Gray{N0f8}(0.6)\n Gray{N0f8}(0.612)  Gray{N0f8}(0.6)       Gray{N0f8}(0.596)\n Gray{N0f8}(0.0)    Gray{N0f8}(0.604)  …  Gray{N0f8}(0.596)\n Gray{N0f8}(0.0)    Gray{N0f8}(0.6)       Gray{N0f8}(0.588)\n Gray{N0f8}(0.62)   Gray{N0f8}(0.616)     Gray{N0f8}(0.576)\n Gray{N0f8}(0.0)    Gray{N0f8}(0.612)     Gray{N0f8}(0.573)\n Gray{N0f8}(0.608)  Gray{N0f8}(0.604)     Gray{N0f8}(0.592)\n ⋮                                     ⋱  ⋮\n Gray{N0f8}(0.408)  Gray{N0f8}(0.529)     Gray{N0f8}(0.498)\n Gray{N0f8}(0.51)   Gray{N0f8}(0.486)     Gray{N0f8}(0.416)\n Gray{N0f8}(0.541)  Gray{N0f8}(0.447)     Gray{N0f8}(0.365)\n Gray{N0f8}(0.478)  Gray{N0f8}(0.475)  …  Gray{N0f8}(0.388)\n Gray{N0f8}(0.408)  Gray{N0f8}(0.455)     Gray{N0f8}(0.408)\n Gray{N0f8}(0.0)    Gray{N0f8}(0.455)     Gray{N0f8}(0.455)\n Gray{N0f8}(0.471)  Gray{N0f8}(0.502)     Gray{N0f8}(0.447)\n Gray{N0f8}(0.475)  Gray{N0f8}(0.502)     Gray{N0f8}(0.435)\n Gray{N0f8}(0.478)  Gray{N0f8}(0.494)  …  Gray{N0f8}(0.439)\n\n[:, :, 3] =\n Gray{N0f8}(0.0)    Gray{N0f8}(0.624)  …  Gray{N0f8}(0.0)\n Gray{N0f8}(0.0)    Gray{N0f8}(0.608)     Gray{N0f8}(0.596)\n Gray{N0f8}(0.616)  Gray{N0f8}(0.62)      Gray{N0f8}(0.596)\n Gray{N0f8}(0.62)   Gray{N0f8}(0.608)     Gray{N0f8}(0.6)\n Gray{N0f8}(0.612)  Gray{N0f8}(0.6)       Gray{N0f8}(0.596)\n Gray{N0f8}(0.0)    Gray{N0f8}(0.604)  …  Gray{N0f8}(0.596)\n Gray{N0f8}(0.0)    Gray{N0f8}(0.6)       Gray{N0f8}(0.588)\n Gray{N0f8}(0.62)   Gray{N0f8}(0.616)     Gray{N0f8}(0.576)\n Gray{N0f8}(0.0)    Gray{N0f8}(0.612)     Gray{N0f8}(0.573)\n Gray{N0f8}(0.608)  Gray{N0f8}(0.604)     Gray{N0f8}(0.592)\n ⋮                                     ⋱  ⋮\n Gray{N0f8}(0.408)  Gray{N0f8}(0.529)     Gray{N0f8}(0.498)\n Gray{N0f8}(0.51)   Gray{N0f8}(0.486)     Gray{N0f8}(0.416)\n Gray{N0f8}(0.541)  Gray{N0f8}(0.447)     Gray{N0f8}(0.365)\n Gray{N0f8}(0.478)  Gray{N0f8}(0.475)  …  Gray{N0f8}(0.388)\n Gray{N0f8}(0.408)  Gray{N0f8}(0.455)     Gray{N0f8}(0.408)\n Gray{N0f8}(0.0)    Gray{N0f8}(0.455)     Gray{N0f8}(0.455)\n Gray{N0f8}(0.471)  Gray{N0f8}(0.502)     Gray{N0f8}(0.447)\n Gray{N0f8}(0.475)  Gray{N0f8}(0.502)     Gray{N0f8}(0.435)\n Gray{N0f8}(0.478)  Gray{N0f8}(0.494)  …  Gray{N0f8}(0.439)\n\n;;; … \n\n[:, :, 13] =\n Gray{N0f8}(0.0)    Gray{N0f8}(0.624)  …  Gray{N0f8}(0.0)\n Gray{N0f8}(0.0)    Gray{N0f8}(0.608)     Gray{N0f8}(0.596)\n Gray{N0f8}(0.0)    Gray{N0f8}(0.62)      Gray{N0f8}(0.596)\n Gray{N0f8}(0.0)    Gray{N0f8}(0.608)     Gray{N0f8}(0.6)\n Gray{N0f8}(0.0)    Gray{N0f8}(0.6)       Gray{N0f8}(0.596)\n Gray{N0f8}(0.0)    Gray{N0f8}(0.604)  …  Gray{N0f8}(0.596)\n Gray{N0f8}(0.0)    Gray{N0f8}(0.6)       Gray{N0f8}(0.588)\n Gray{N0f8}(0.0)    Gray{N0f8}(0.616)     Gray{N0f8}(0.576)\n Gray{N0f8}(0.0)    Gray{N0f8}(0.612)     Gray{N0f8}(0.573)\n Gray{N0f8}(0.0)    Gray{N0f8}(0.604)     Gray{N0f8}(0.592)\n ⋮                                     ⋱  ⋮\n Gray{N0f8}(0.424)  Gray{N0f8}(0.525)     Gray{N0f8}(0.0)\n Gray{N0f8}(0.51)   Gray{N0f8}(0.478)     Gray{N0f8}(0.0)\n Gray{N0f8}(0.529)  Gray{N0f8}(0.447)     Gray{N0f8}(0.0)\n Gray{N0f8}(0.475)  Gray{N0f8}(0.471)  …  Gray{N0f8}(0.0)\n Gray{N0f8}(0.416)  Gray{N0f8}(0.451)     Gray{N0f8}(0.0)\n Gray{N0f8}(0.463)  Gray{N0f8}(0.459)     Gray{N0f8}(0.0)\n Gray{N0f8}(0.475)  Gray{N0f8}(0.498)     Gray{N0f8}(0.0)\n Gray{N0f8}(0.475)  Gray{N0f8}(0.502)     Gray{N0f8}(0.0)\n Gray{N0f8}(0.0)    Gray{N0f8}(0.0)    …  Gray{N0f8}(0.0)\n\n[:, :, 14] =\n Gray{N0f8}(0.0)    Gray{N0f8}(0.62)   …  Gray{N0f8}(0.0)\n Gray{N0f8}(0.0)    Gray{N0f8}(0.612)     Gray{N0f8}(0.596)\n Gray{N0f8}(0.0)    Gray{N0f8}(0.62)      Gray{N0f8}(0.596)\n Gray{N0f8}(0.0)    Gray{N0f8}(0.608)     Gray{N0f8}(0.6)\n Gray{N0f8}(0.0)    Gray{N0f8}(0.604)     Gray{N0f8}(0.596)\n Gray{N0f8}(0.0)    Gray{N0f8}(0.604)  …  Gray{N0f8}(0.596)\n Gray{N0f8}(0.0)    Gray{N0f8}(0.604)     Gray{N0f8}(0.588)\n Gray{N0f8}(0.0)    Gray{N0f8}(0.616)     Gray{N0f8}(0.58)\n Gray{N0f8}(0.0)    Gray{N0f8}(0.612)     Gray{N0f8}(0.573)\n Gray{N0f8}(0.0)    Gray{N0f8}(0.604)     Gray{N0f8}(0.588)\n ⋮                                     ⋱  ⋮\n Gray{N0f8}(0.439)  Gray{N0f8}(0.522)     Gray{N0f8}(0.0)\n Gray{N0f8}(0.51)   Gray{N0f8}(0.475)     Gray{N0f8}(0.0)\n Gray{N0f8}(0.522)  Gray{N0f8}(0.451)     Gray{N0f8}(0.0)\n Gray{N0f8}(0.471)  Gray{N0f8}(0.467)  …  Gray{N0f8}(0.0)\n Gray{N0f8}(0.42)   Gray{N0f8}(0.451)     Gray{N0f8}(0.0)\n Gray{N0f8}(0.463)  Gray{N0f8}(0.463)     Gray{N0f8}(0.0)\n Gray{N0f8}(0.475)  Gray{N0f8}(0.498)     Gray{N0f8}(0.0)\n Gray{N0f8}(0.478)  Gray{N0f8}(0.506)     Gray{N0f8}(0.0)\n Gray{N0f8}(0.0)    Gray{N0f8}(0.0)    …  Gray{N0f8}(0.0)\n\n[:, :, 15] =\n Gray{N0f8}(0.0)    Gray{N0f8}(0.62)   …  Gray{N0f8}(0.0)\n Gray{N0f8}(0.0)    Gray{N0f8}(0.612)     Gray{N0f8}(0.596)\n Gray{N0f8}(0.0)    Gray{N0f8}(0.616)     Gray{N0f8}(0.596)\n Gray{N0f8}(0.0)    Gray{N0f8}(0.608)     Gray{N0f8}(0.6)\n Gray{N0f8}(0.0)    Gray{N0f8}(0.604)     Gray{N0f8}(0.596)\n Gray{N0f8}(0.0)    Gray{N0f8}(0.604)  …  Gray{N0f8}(0.596)\n Gray{N0f8}(0.0)    Gray{N0f8}(0.608)     Gray{N0f8}(0.592)\n Gray{N0f8}(0.0)    Gray{N0f8}(0.616)     Gray{N0f8}(0.58)\n Gray{N0f8}(0.0)    Gray{N0f8}(0.612)     Gray{N0f8}(0.576)\n Gray{N0f8}(0.0)    Gray{N0f8}(0.608)     Gray{N0f8}(0.584)\n ⋮                                     ⋱  ⋮\n Gray{N0f8}(0.459)  Gray{N0f8}(0.51)      Gray{N0f8}(0.0)\n Gray{N0f8}(0.506)  Gray{N0f8}(0.467)     Gray{N0f8}(0.0)\n Gray{N0f8}(0.506)  Gray{N0f8}(0.451)     Gray{N0f8}(0.0)\n Gray{N0f8}(0.463)  Gray{N0f8}(0.459)  …  Gray{N0f8}(0.0)\n Gray{N0f8}(0.431)  Gray{N0f8}(0.447)     Gray{N0f8}(0.0)\n Gray{N0f8}(0.467)  Gray{N0f8}(0.467)     Gray{N0f8}(0.0)\n Gray{N0f8}(0.478)  Gray{N0f8}(0.498)     Gray{N0f8}(0.0)\n Gray{N0f8}(0.482)  Gray{N0f8}(0.506)     Gray{N0f8}(0.0)\n Gray{N0f8}(0.0)    Gray{N0f8}(0.0)    …  Gray{N0f8}(0.0)"
     },
     "metadata": {},
     "execution_count": 3
    }
   ],
   "cell_type": "code",
   "source": [
    "preview = ImageShow.gif([swirl(0, 10, radius) for radius in 10:10:150]; fps=5)"
   ],
   "metadata": {},
   "execution_count": 3
  },
  {
   "cell_type": "markdown",
   "source": [
    "---\n",
    "\n",
    "*This notebook was generated using [Literate.jl](https://github.com/fredrikekre/Literate.jl).*"
   ],
   "metadata": {}
  }
 ],
 "nbformat_minor": 3,
 "metadata": {
  "language_info": {
   "file_extension": ".jl",
   "mimetype": "application/julia",
   "name": "julia",
   "version": "1.7.3"
  },
  "kernelspec": {
   "name": "julia-1.7",
   "display_name": "Julia 1.7.3",
   "language": "julia"
  }
 },
 "nbformat": 4
}
